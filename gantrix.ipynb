{
 "cells": [
  {
   "cell_type": "code",
   "execution_count": null,
   "metadata": {},
   "outputs": [],
   "source": [
    "import os\n",
    "import tensorflow as tf\n",
    "import numpy as np\n",
    "import pytorch as torch\n"
   ]
  },
  {
   "cell_type": "markdown",
   "metadata": {},
   "source": [
    "Now we will go on to open the data space."
   ]
  },
  {
   "cell_type": "code",
   "execution_count": 3,
   "metadata": {},
   "outputs": [
    {
     "name": "stdout",
     "output_type": "stream",
     "text": [
      "Collecting https://github.com/deepmind/graphcast/archive/master.zip\n",
      "  Using cached https://github.com/deepmind/graphcast/archive/master.zip\n",
      "  Preparing metadata (setup.py): started\n",
      "  Preparing metadata (setup.py): finished with status 'done'\n",
      "Requirement already satisfied: cartopy in c:\\users\\hafta\\anaconda3\\lib\\site-packages (from graphcast==0.1) (0.23.0)\n",
      "Requirement already satisfied: chex in c:\\users\\hafta\\anaconda3\\lib\\site-packages (from graphcast==0.1) (0.1.86)\n",
      "Requirement already satisfied: colabtools in c:\\users\\hafta\\anaconda3\\lib\\site-packages (from graphcast==0.1) (0.0.1)\n",
      "Requirement already satisfied: dask in c:\\users\\hafta\\anaconda3\\lib\\site-packages (from graphcast==0.1) (2024.5.0)\n",
      "Requirement already satisfied: dm-haiku in c:\\users\\hafta\\anaconda3\\lib\\site-packages (from graphcast==0.1) (0.0.12)\n",
      "Requirement already satisfied: dm-tree in c:\\users\\hafta\\anaconda3\\lib\\site-packages (from graphcast==0.1) (0.1.8)\n",
      "Requirement already satisfied: jax in c:\\users\\hafta\\anaconda3\\lib\\site-packages (from graphcast==0.1) (0.4.33)\n",
      "Requirement already satisfied: jraph in c:\\users\\hafta\\anaconda3\\lib\\site-packages (from graphcast==0.1) (0.0.6.dev0)\n",
      "Requirement already satisfied: matplotlib in c:\\users\\hafta\\anaconda3\\lib\\site-packages (from graphcast==0.1) (3.8.4)\n",
      "Requirement already satisfied: numpy in c:\\users\\hafta\\anaconda3\\lib\\site-packages (from graphcast==0.1) (1.26.4)\n",
      "Requirement already satisfied: pandas in c:\\users\\hafta\\anaconda3\\lib\\site-packages (from graphcast==0.1) (2.2.2)\n",
      "Requirement already satisfied: rtree in c:\\users\\hafta\\anaconda3\\lib\\site-packages (from graphcast==0.1) (1.0.1)\n",
      "Requirement already satisfied: scipy in c:\\users\\hafta\\anaconda3\\lib\\site-packages (from graphcast==0.1) (1.13.1)\n",
      "Requirement already satisfied: trimesh in c:\\users\\hafta\\anaconda3\\lib\\site-packages (from graphcast==0.1) (4.4.9)\n",
      "Requirement already satisfied: typing_extensions in c:\\users\\hafta\\anaconda3\\lib\\site-packages (from graphcast==0.1) (4.11.0)\n",
      "Requirement already satisfied: xarray in c:\\users\\hafta\\anaconda3\\lib\\site-packages (from graphcast==0.1) (2023.6.0)\n",
      "Requirement already satisfied: shapely>=1.7 in c:\\users\\hafta\\anaconda3\\lib\\site-packages (from cartopy->graphcast==0.1) (2.0.6)\n",
      "Requirement already satisfied: packaging>=20 in c:\\users\\hafta\\anaconda3\\lib\\site-packages (from cartopy->graphcast==0.1) (23.2)\n",
      "Requirement already satisfied: pyshp>=2.3 in c:\\users\\hafta\\anaconda3\\lib\\site-packages (from cartopy->graphcast==0.1) (2.3.1)\n",
      "Requirement already satisfied: pyproj>=3.3.1 in c:\\users\\hafta\\anaconda3\\lib\\site-packages (from cartopy->graphcast==0.1) (3.6.1)\n",
      "Requirement already satisfied: contourpy>=1.0.1 in c:\\users\\hafta\\anaconda3\\lib\\site-packages (from matplotlib->graphcast==0.1) (1.2.0)\n",
      "Requirement already satisfied: cycler>=0.10 in c:\\users\\hafta\\anaconda3\\lib\\site-packages (from matplotlib->graphcast==0.1) (0.11.0)\n",
      "Requirement already satisfied: fonttools>=4.22.0 in c:\\users\\hafta\\anaconda3\\lib\\site-packages (from matplotlib->graphcast==0.1) (4.51.0)\n",
      "Requirement already satisfied: kiwisolver>=1.3.1 in c:\\users\\hafta\\anaconda3\\lib\\site-packages (from matplotlib->graphcast==0.1) (1.4.4)\n",
      "Requirement already satisfied: pillow>=8 in c:\\users\\hafta\\anaconda3\\lib\\site-packages (from matplotlib->graphcast==0.1) (10.3.0)\n",
      "Requirement already satisfied: pyparsing>=2.3.1 in c:\\users\\hafta\\anaconda3\\lib\\site-packages (from matplotlib->graphcast==0.1) (3.0.9)\n",
      "Requirement already satisfied: python-dateutil>=2.7 in c:\\users\\hafta\\anaconda3\\lib\\site-packages (from matplotlib->graphcast==0.1) (2.9.0.post0)\n",
      "Requirement already satisfied: absl-py>=0.9.0 in c:\\users\\hafta\\anaconda3\\lib\\site-packages (from chex->graphcast==0.1) (2.1.0)\n",
      "Requirement already satisfied: jaxlib>=0.1.37 in c:\\users\\hafta\\anaconda3\\lib\\site-packages (from chex->graphcast==0.1) (0.4.33)\n",
      "Requirement already satisfied: toolz>=0.9.0 in c:\\users\\hafta\\anaconda3\\lib\\site-packages (from chex->graphcast==0.1) (0.12.0)\n",
      "Requirement already satisfied: setuptools in c:\\users\\hafta\\anaconda3\\lib\\site-packages (from chex->graphcast==0.1) (69.5.1)\n",
      "Requirement already satisfied: ml-dtypes>=0.2.0 in c:\\users\\hafta\\anaconda3\\lib\\site-packages (from jax->graphcast==0.1) (0.5.0)\n",
      "Requirement already satisfied: opt-einsum in c:\\users\\hafta\\anaconda3\\lib\\site-packages (from jax->graphcast==0.1) (3.3.0)\n",
      "Requirement already satisfied: click>=8.1 in c:\\users\\hafta\\anaconda3\\lib\\site-packages (from dask->graphcast==0.1) (8.1.7)\n",
      "Requirement already satisfied: cloudpickle>=1.5.0 in c:\\users\\hafta\\anaconda3\\lib\\site-packages (from dask->graphcast==0.1) (2.2.1)\n",
      "Requirement already satisfied: fsspec>=2021.09.0 in c:\\users\\hafta\\anaconda3\\lib\\site-packages (from dask->graphcast==0.1) (2024.3.1)\n",
      "Requirement already satisfied: partd>=1.2.0 in c:\\users\\hafta\\anaconda3\\lib\\site-packages (from dask->graphcast==0.1) (1.4.1)\n",
      "Requirement already satisfied: pyyaml>=5.3.1 in c:\\users\\hafta\\anaconda3\\lib\\site-packages (from dask->graphcast==0.1) (6.0.1)\n",
      "Requirement already satisfied: jmp>=0.0.2 in c:\\users\\hafta\\anaconda3\\lib\\site-packages (from dm-haiku->graphcast==0.1) (0.0.4)\n",
      "Requirement already satisfied: tabulate>=0.8.9 in c:\\users\\hafta\\anaconda3\\lib\\site-packages (from dm-haiku->graphcast==0.1) (0.9.0)\n",
      "Requirement already satisfied: flax>=0.7.1 in c:\\users\\hafta\\anaconda3\\lib\\site-packages (from dm-haiku->graphcast==0.1) (0.9.0)\n",
      "Requirement already satisfied: pytz>=2020.1 in c:\\users\\hafta\\anaconda3\\lib\\site-packages (from pandas->graphcast==0.1) (2024.1)\n",
      "Requirement already satisfied: tzdata>=2022.7 in c:\\users\\hafta\\anaconda3\\lib\\site-packages (from pandas->graphcast==0.1) (2023.3)\n",
      "Requirement already satisfied: colorama in c:\\users\\hafta\\appdata\\roaming\\python\\python312\\site-packages (from click>=8.1->dask->graphcast==0.1) (0.4.6)\n",
      "Requirement already satisfied: msgpack in c:\\users\\hafta\\anaconda3\\lib\\site-packages (from flax>=0.7.1->dm-haiku->graphcast==0.1) (1.0.3)\n",
      "Requirement already satisfied: optax in c:\\users\\hafta\\anaconda3\\lib\\site-packages (from flax>=0.7.1->dm-haiku->graphcast==0.1) (0.2.3)\n",
      "Requirement already satisfied: orbax-checkpoint in c:\\users\\hafta\\anaconda3\\lib\\site-packages (from flax>=0.7.1->dm-haiku->graphcast==0.1) (0.6.4)\n",
      "Requirement already satisfied: tensorstore in c:\\users\\hafta\\anaconda3\\lib\\site-packages (from flax>=0.7.1->dm-haiku->graphcast==0.1) (0.1.65)\n",
      "Requirement already satisfied: rich>=11.1 in c:\\users\\hafta\\anaconda3\\lib\\site-packages (from flax>=0.7.1->dm-haiku->graphcast==0.1) (13.3.5)\n",
      "Requirement already satisfied: locket in c:\\users\\hafta\\anaconda3\\lib\\site-packages (from partd>=1.2.0->dask->graphcast==0.1) (1.0.0)\n",
      "Requirement already satisfied: certifi in c:\\users\\hafta\\anaconda3\\lib\\site-packages (from pyproj>=3.3.1->cartopy->graphcast==0.1) (2024.7.4)\n",
      "Requirement already satisfied: six>=1.5 in c:\\users\\hafta\\anaconda3\\lib\\site-packages (from python-dateutil>=2.7->matplotlib->graphcast==0.1) (1.16.0)\n",
      "Requirement already satisfied: markdown-it-py<3.0.0,>=2.2.0 in c:\\users\\hafta\\anaconda3\\lib\\site-packages (from rich>=11.1->flax>=0.7.1->dm-haiku->graphcast==0.1) (2.2.0)\n",
      "Requirement already satisfied: pygments<3.0.0,>=2.13.0 in c:\\users\\hafta\\anaconda3\\lib\\site-packages (from rich>=11.1->flax>=0.7.1->dm-haiku->graphcast==0.1) (2.15.1)\n",
      "Requirement already satisfied: etils[epy] in c:\\users\\hafta\\anaconda3\\lib\\site-packages (from optax->flax>=0.7.1->dm-haiku->graphcast==0.1) (1.9.4)\n",
      "Requirement already satisfied: nest_asyncio in c:\\users\\hafta\\appdata\\roaming\\python\\python312\\site-packages (from orbax-checkpoint->flax>=0.7.1->dm-haiku->graphcast==0.1) (1.6.0)\n",
      "Requirement already satisfied: protobuf in c:\\users\\hafta\\anaconda3\\lib\\site-packages (from orbax-checkpoint->flax>=0.7.1->dm-haiku->graphcast==0.1) (3.20.3)\n",
      "Requirement already satisfied: humanize in c:\\users\\hafta\\anaconda3\\lib\\site-packages (from orbax-checkpoint->flax>=0.7.1->dm-haiku->graphcast==0.1) (4.10.0)\n",
      "Requirement already satisfied: mdurl~=0.1 in c:\\users\\hafta\\anaconda3\\lib\\site-packages (from markdown-it-py<3.0.0,>=2.2.0->rich>=11.1->flax>=0.7.1->dm-haiku->graphcast==0.1) (0.1.0)\n",
      "Requirement already satisfied: importlib_resources in c:\\users\\hafta\\anaconda3\\lib\\site-packages (from etils[epath,epy]->orbax-checkpoint->flax>=0.7.1->dm-haiku->graphcast==0.1) (6.4.5)\n",
      "Requirement already satisfied: zipp in c:\\users\\hafta\\anaconda3\\lib\\site-packages (from etils[epath,epy]->orbax-checkpoint->flax>=0.7.1->dm-haiku->graphcast==0.1) (3.17.0)\n",
      "Note: you may need to restart the kernel to use updated packages.\n"
     ]
    }
   ],
   "source": [
    "# @title Pip install graphcast and dependencies without rushing oby\n",
    "\n",
    "%pip install https://github.com/deepmind/graphcast/archive/master.zip"
   ]
  }
 ],
 "metadata": {
  "kernelspec": {
   "display_name": "base",
   "language": "python",
   "name": "python3"
  },
  "language_info": {
   "codemirror_mode": {
    "name": "ipython",
    "version": 3
   },
   "file_extension": ".py",
   "mimetype": "text/x-python",
   "name": "python",
   "nbconvert_exporter": "python",
   "pygments_lexer": "ipython3",
   "version": "3.12.4"
  }
 },
 "nbformat": 4,
 "nbformat_minor": 2
}
